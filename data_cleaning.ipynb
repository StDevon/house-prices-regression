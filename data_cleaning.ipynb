{
 "cells": [
  {
   "cell_type": "code",
   "execution_count": 1,
   "metadata": {},
   "outputs": [],
   "source": [
    "import pandas as pd\n",
    "from sklearn.impute import KNNImputer\n",
    "from scipy import stats\n",
    "import pandas as pd\n",
    "import numpy as np\n",
    "from sklearn.impute import KNNImputer\n",
    "from sklearn.metrics import mean_squared_error\n",
    "from sklearn.model_selection import KFold\n",
    "import matplotlib.pyplot as plt\n",
    "import seaborn as sns"
   ]
  },
  {
   "cell_type": "markdown",
   "metadata": {},
   "source": [
    "# Data loading and inspection"
   ]
  },
  {
   "cell_type": "code",
   "execution_count": 2,
   "metadata": {},
   "outputs": [
    {
     "name": "stdout",
     "output_type": "stream",
     "text": [
      "<class 'pandas.core.frame.DataFrame'>\n",
      "RangeIndex: 1460 entries, 0 to 1459\n",
      "Data columns (total 81 columns):\n",
      " #   Column         Non-Null Count  Dtype  \n",
      "---  ------         --------------  -----  \n",
      " 0   Id             1460 non-null   int64  \n",
      " 1   MSSubClass     1460 non-null   int64  \n",
      " 2   MSZoning       1460 non-null   object \n",
      " 3   LotFrontage    1201 non-null   float64\n",
      " 4   LotArea        1460 non-null   int64  \n",
      " 5   Street         1460 non-null   object \n",
      " 6   Alley          91 non-null     object \n",
      " 7   LotShape       1460 non-null   object \n",
      " 8   LandContour    1460 non-null   object \n",
      " 9   Utilities      1460 non-null   object \n",
      " 10  LotConfig      1460 non-null   object \n",
      " 11  LandSlope      1460 non-null   object \n",
      " 12  Neighborhood   1460 non-null   object \n",
      " 13  Condition1     1460 non-null   object \n",
      " 14  Condition2     1460 non-null   object \n",
      " 15  BldgType       1460 non-null   object \n",
      " 16  HouseStyle     1460 non-null   object \n",
      " 17  OverallQual    1460 non-null   int64  \n",
      " 18  OverallCond    1460 non-null   int64  \n",
      " 19  YearBuilt      1460 non-null   int64  \n",
      " 20  YearRemodAdd   1460 non-null   int64  \n",
      " 21  RoofStyle      1460 non-null   object \n",
      " 22  RoofMatl       1460 non-null   object \n",
      " 23  Exterior1st    1460 non-null   object \n",
      " 24  Exterior2nd    1460 non-null   object \n",
      " 25  MasVnrType     588 non-null    object \n",
      " 26  MasVnrArea     1452 non-null   float64\n",
      " 27  ExterQual      1460 non-null   object \n",
      " 28  ExterCond      1460 non-null   object \n",
      " 29  Foundation     1460 non-null   object \n",
      " 30  BsmtQual       1423 non-null   object \n",
      " 31  BsmtCond       1423 non-null   object \n",
      " 32  BsmtExposure   1422 non-null   object \n",
      " 33  BsmtFinType1   1423 non-null   object \n",
      " 34  BsmtFinSF1     1460 non-null   int64  \n",
      " 35  BsmtFinType2   1422 non-null   object \n",
      " 36  BsmtFinSF2     1460 non-null   int64  \n",
      " 37  BsmtUnfSF      1460 non-null   int64  \n",
      " 38  TotalBsmtSF    1460 non-null   int64  \n",
      " 39  Heating        1460 non-null   object \n",
      " 40  HeatingQC      1460 non-null   object \n",
      " 41  CentralAir     1460 non-null   object \n",
      " 42  Electrical     1459 non-null   object \n",
      " 43  1stFlrSF       1460 non-null   int64  \n",
      " 44  2ndFlrSF       1460 non-null   int64  \n",
      " 45  LowQualFinSF   1460 non-null   int64  \n",
      " 46  GrLivArea      1460 non-null   int64  \n",
      " 47  BsmtFullBath   1460 non-null   int64  \n",
      " 48  BsmtHalfBath   1460 non-null   int64  \n",
      " 49  FullBath       1460 non-null   int64  \n",
      " 50  HalfBath       1460 non-null   int64  \n",
      " 51  BedroomAbvGr   1460 non-null   int64  \n",
      " 52  KitchenAbvGr   1460 non-null   int64  \n",
      " 53  KitchenQual    1460 non-null   object \n",
      " 54  TotRmsAbvGrd   1460 non-null   int64  \n",
      " 55  Functional     1460 non-null   object \n",
      " 56  Fireplaces     1460 non-null   int64  \n",
      " 57  FireplaceQu    770 non-null    object \n",
      " 58  GarageType     1379 non-null   object \n",
      " 59  GarageYrBlt    1379 non-null   float64\n",
      " 60  GarageFinish   1379 non-null   object \n",
      " 61  GarageCars     1460 non-null   int64  \n",
      " 62  GarageArea     1460 non-null   int64  \n",
      " 63  GarageQual     1379 non-null   object \n",
      " 64  GarageCond     1379 non-null   object \n",
      " 65  PavedDrive     1460 non-null   object \n",
      " 66  WoodDeckSF     1460 non-null   int64  \n",
      " 67  OpenPorchSF    1460 non-null   int64  \n",
      " 68  EnclosedPorch  1460 non-null   int64  \n",
      " 69  3SsnPorch      1460 non-null   int64  \n",
      " 70  ScreenPorch    1460 non-null   int64  \n",
      " 71  PoolArea       1460 non-null   int64  \n",
      " 72  PoolQC         7 non-null      object \n",
      " 73  Fence          281 non-null    object \n",
      " 74  MiscFeature    54 non-null     object \n",
      " 75  MiscVal        1460 non-null   int64  \n",
      " 76  MoSold         1460 non-null   int64  \n",
      " 77  YrSold         1460 non-null   int64  \n",
      " 78  SaleType       1460 non-null   object \n",
      " 79  SaleCondition  1460 non-null   object \n",
      " 80  SalePrice      1460 non-null   int64  \n",
      "dtypes: float64(3), int64(35), object(43)\n",
      "memory usage: 924.0+ KB\n"
     ]
    }
   ],
   "source": [
    "df = pd.read_csv(\"data/train.csv\")\n",
    "df.info()\n",
    "# df.head()"
   ]
  },
  {
   "cell_type": "code",
   "execution_count": null,
   "metadata": {},
   "outputs": [],
   "source": [
    "\n",
    "\n",
    "# df = df.drop_duplicates()\n",
    "# df.info()"
   ]
  },
  {
   "cell_type": "markdown",
   "metadata": {},
   "source": [
    "# Missing values"
   ]
  },
  {
   "cell_type": "code",
   "execution_count": 4,
   "metadata": {},
   "outputs": [
    {
     "name": "stdout",
     "output_type": "stream",
     "text": [
      "Column: LotFrontage, Null: 259, Dtype: float64\n",
      "Column: Alley, Null: 1369, Dtype: object\n",
      "Column: MasVnrType, Null: 872, Dtype: object\n",
      "Column: MasVnrArea, Null: 8, Dtype: float64\n",
      "Column: BsmtQual, Null: 37, Dtype: object\n",
      "Column: BsmtCond, Null: 37, Dtype: object\n",
      "Column: BsmtExposure, Null: 38, Dtype: object\n",
      "Column: BsmtFinType1, Null: 37, Dtype: object\n",
      "Column: BsmtFinType2, Null: 38, Dtype: object\n",
      "Column: Electrical, Null: 1, Dtype: object\n",
      "Column: FireplaceQu, Null: 690, Dtype: object\n",
      "Column: GarageType, Null: 81, Dtype: object\n",
      "Column: GarageYrBlt, Null: 81, Dtype: float64\n",
      "Column: GarageFinish, Null: 81, Dtype: object\n",
      "Column: GarageQual, Null: 81, Dtype: object\n",
      "Column: GarageCond, Null: 81, Dtype: object\n",
      "Column: PoolQC, Null: 1453, Dtype: object\n",
      "Column: Fence, Null: 1179, Dtype: object\n",
      "Column: MiscFeature, Null: 1406, Dtype: object\n",
      "Number of columns with Nones=19\n"
     ]
    }
   ],
   "source": [
    "def info_with_nones(df):\n",
    "    \"\"\"Displays info only for columns with missing values.\"\"\"\n",
    "    null_counts = df.isnull().sum()\n",
    "    cols_with_nones = null_counts[null_counts > 0].index\n",
    "    couter = 0\n",
    "    if not cols_with_nones.empty:\n",
    "        for col in cols_with_nones:\n",
    "            couter = couter+1\n",
    "            print(f\"Column: {col}, Null: {df[col].isnull().sum()}, Dtype: {df[col].dtype}\", end=\"\\n\")\n",
    "    else:\n",
    "        print(\"No columns with missing values found.\")\n",
    "    print(f'Number of columns with Nones={couter}')\n",
    "info_with_nones(df)"
   ]
  },
  {
   "cell_type": "markdown",
   "metadata": {},
   "source": [
    "For some of the features, none is an actual information:"
   ]
  },
  {
   "cell_type": "code",
   "execution_count": null,
   "metadata": {},
   "outputs": [],
   "source": [
    "df['Alley']=df['Alley'].fillna(\"NoAlley\")\n",
    "\n",
    "df['PoolQC']=df['PoolQC'].fillna(\"NoPool\")\n",
    "\n",
    "df['MiscFeature']=df['MiscFeature'].fillna(\"NoFeature\")\n",
    "\n",
    "df['Fence']=df['Fence'].fillna(\"NoFence\")\n",
    "\n",
    "df['MasVnrType']=df['MasVnrType'].fillna(\"NoMasonry\")\n",
    "\n",
    "df['FireplaceQu']=df['FireplaceQu'].fillna(\"NoFirePlace\")\n",
    "\n",
    "df['BsmtQual']=df['BsmtQual'].fillna(\"NoBasement\")\n",
    "df['BsmtCond']=df['BsmtCond'].fillna(\"NoBasement\")\n",
    "df['BsmtExposure']=df['BsmtExposure'].fillna(\"NoBasement\")\n",
    "df['BsmtFinType1']=df['BsmtFinType1'].fillna(\"NoBasement\")\n",
    "df['BsmtFinType2']=df['BsmtFinType2'].fillna(\"NoBasement\")\n",
    "\n",
    "df['GarageType']=df['GarageType'].fillna(\"NoGarage\")\n",
    "df['GarageYrBlt']=df['GarageYrBlt'].fillna(\"NoGarage\")\n",
    "df['GarageFinish']=df['GarageFinish'].fillna(\"NoGarage\")\n",
    "df['GarageQual']=df['GarageQual'].fillna(\"NoGarage\")\n",
    "df['GarageCond']=df['GarageCond'].fillna(\"NoGarage\")\n",
    "\n"
   ]
  },
  {
   "cell_type": "markdown",
   "metadata": {},
   "source": [
    "Remaining features with nones:"
   ]
  },
  {
   "cell_type": "code",
   "execution_count": 6,
   "metadata": {},
   "outputs": [
    {
     "name": "stdout",
     "output_type": "stream",
     "text": [
      "Column: LotFrontage, Null: 259, Dtype: float64\n",
      "Column: MasVnrArea, Null: 8, Dtype: float64\n",
      "Column: Electrical, Null: 1, Dtype: object\n",
      "Number of columns with Nones=3\n"
     ]
    }
   ],
   "source": [
    "info_with_nones(df)\n"
   ]
  },
  {
   "cell_type": "markdown",
   "metadata": {},
   "source": [
    "From those the most problematic is LotFrontage, which may be a strong predictor. Checking if using mean is sufficient:"
   ]
  },
  {
   "cell_type": "code",
   "execution_count": 7,
   "metadata": {},
   "outputs": [
    {
     "data": {
      "text/plain": [
       "count    1201.000000\n",
       "mean       70.049958\n",
       "std        24.284752\n",
       "min        21.000000\n",
       "25%        59.000000\n",
       "50%        69.000000\n",
       "75%        80.000000\n",
       "max       313.000000\n",
       "Name: LotFrontage, dtype: float64"
      ]
     },
     "execution_count": 7,
     "metadata": {},
     "output_type": "execute_result"
    }
   ],
   "source": [
    "df['LotFrontage'].describe()"
   ]
  },
  {
   "cell_type": "markdown",
   "metadata": {},
   "source": [
    "std is quite high, std/mean~0.3. Also, since 259/1460 ~18% of values are missing it would greatly impact the distribution of the LotFrontage. We will use more sophisticated imputation method"
   ]
  },
  {
   "cell_type": "code",
   "execution_count": 8,
   "metadata": {},
   "outputs": [
    {
     "name": "stdout",
     "output_type": "stream",
     "text": [
      "k = 3: Average RMSE (Cross-Validation) = 21.550955127743798\n",
      "k = 4: Average RMSE (Cross-Validation) = 21.183260859590014\n",
      "k = 5: Average RMSE (Cross-Validation) = 21.41815540611111\n",
      "k = 7: Average RMSE (Cross-Validation) = 21.3202015471425\n",
      "k = 9: Average RMSE (Cross-Validation) = 21.175464944636502\n",
      "k = 12: Average RMSE (Cross-Validation) = 21.097739968200088\n",
      "k = 15: Average RMSE (Cross-Validation) = 21.041156369228144\n",
      "k = 20: Average RMSE (Cross-Validation) = 21.454750895145974\n",
      "k = 25: Average RMSE (Cross-Validation) = 21.995924889852386\n",
      "k = 30: Average RMSE (Cross-Validation) = 22.20306186783294\n",
      "The best k value (based on average RMSE) is: 15\n"
     ]
    }
   ],
   "source": [
    "def impute_column_knn_sklearn(df, column_name, k=5):\n",
    "    \"\"\"Imputes a column using sklearn's KNNImputer.\"\"\"\n",
    "    df_numeric = df.select_dtypes(include=np.number)\n",
    "    imputer = KNNImputer(n_neighbors=k)\n",
    "    df_imputed = imputer.fit_transform(df_numeric)\n",
    "    df_imputed = pd.DataFrame(df_imputed, columns=df_numeric.columns, index=df.index)\n",
    "    df[column_name] = df_imputed[column_name]\n",
    "    return df\n",
    "\n",
    "def evaluate_imputer_cross_validation_rmse(df, column_name, k_values, n_splits=5, random_state=42, mask_fraction=0.2):\n",
    "    \"\"\"\n",
    "    Evaluates KNN imputer generalization using k-fold cross-validation and RMSE.\n",
    "    A fraction of the known values in the target column is masked to simulate missingness.\n",
    "    \n",
    "    Parameters:\n",
    "      df (DataFrame): The input DataFrame.\n",
    "      column_name (str): The target column to impute.\n",
    "      k_values (list): List of neighbor counts to test.\n",
    "      n_splits (int): Number of cross-validation folds.\n",
    "      random_state (int): Seed for reproducibility.\n",
    "      mask_fraction (float): Fraction of non-missing values to mask in each test fold.\n",
    "    \n",
    "    Returns:\n",
    "      dict: Average RMSE for each k value.\n",
    "    \"\"\"\n",
    "    results = {}\n",
    "    kf = KFold(n_splits=n_splits, shuffle=True, random_state=random_state)\n",
    "    numeric_df = df.select_dtypes(include=np.number)\n",
    "\n",
    "    for k in k_values:\n",
    "        rmse_values = []\n",
    "        for train_index, test_index in kf.split(numeric_df):\n",
    "            train_numeric = numeric_df.iloc[train_index]\n",
    "            test_numeric = numeric_df.iloc[test_index].copy()  # Copy to avoid altering the original data\n",
    "\n",
    "            # Identify non-missing entries in the target column of the test set\n",
    "            non_missing = test_numeric[test_numeric[column_name].notna()]\n",
    "\n",
    "            # Randomly mask a fraction of these non-missing values\n",
    "            mask_indices = non_missing[column_name].sample(frac=mask_fraction, random_state=random_state).index\n",
    "            \n",
    "            # Save the true values for later comparison and mask the values\n",
    "            true_values = test_numeric.loc[mask_indices, column_name].copy()\n",
    "            test_numeric.loc[mask_indices, column_name] = np.nan\n",
    "            \n",
    "            # Fit the imputer on the training data and transform the test data\n",
    "            imputer = KNNImputer(n_neighbors=k)\n",
    "            imputer.fit(train_numeric)\n",
    "            test_imputed = imputer.transform(test_numeric)\n",
    "            test_imputed_df = pd.DataFrame(test_imputed, columns=test_numeric.columns, index=test_numeric.index)\n",
    "            \n",
    "            # Compute RMSE for the masked values only\n",
    "            imputed_values = test_imputed_df.loc[mask_indices, column_name]\n",
    "            rmse = np.sqrt(mean_squared_error(true_values, imputed_values))\n",
    "            rmse_values.append(rmse)\n",
    "        \n",
    "        results[k] = np.mean(rmse_values)\n",
    "    \n",
    "    return results\n",
    "\n",
    "    \n",
    "\n",
    "\n",
    "k_values = [3, 4, 5, 7, 9, 12, 15, 20, 25, 30]\n",
    "results = evaluate_imputer_cross_validation_rmse(df, 'LotFrontage', k_values, mask_fraction=0.2)\n",
    "\n",
    "for k, rmse in results.items():\n",
    "    print(f\"k = {k}: Average RMSE (Cross-Validation) = {rmse}\")\n",
    "\n",
    "best_k = min(results, key=results.get)\n",
    "print(f\"The best k value (based on average RMSE) is: {best_k}\")\n"
   ]
  },
  {
   "cell_type": "code",
   "execution_count": 9,
   "metadata": {},
   "outputs": [],
   "source": [
    "def impute_column_mean(df, column_name):\n",
    "    \"\"\"Imputes a column using the mean.\"\"\"\n",
    "    mean_value = df[column_name].mean()\n",
    "    df[column_name] = df[column_name].fillna(mean_value)\n",
    "    return df\n",
    "\n",
    "\n",
    "def compare_imputation_distributions(df_original, df_mean, df_knn, column_name):\n",
    "    \"\"\"Compares the distributions of a column after different imputations with seaborn.\"\"\"\n",
    "    \n",
    "\n",
    "    \n",
    "    plt.figure(figsize=(12, 6))\n",
    "    \n",
    "    # First subplot - original data\n",
    "    ax1 = plt.subplot(1, 3, 1)\n",
    "    # Get the original non-missing data as a Series\n",
    "    original_data = df_original[column_name].dropna()\n",
    "    \n",
    "    if len(original_data) > 0:\n",
    "        # Explicitly convert to a pandas Series with a known valid color\n",
    "        sns.histplot(original_data.reset_index(drop=True), kde=True, ax=ax1, color='blue')\n",
    "        ax1.set_title(f'Original {column_name}\\n(non-missing values)')\n",
    "    else:\n",
    "        ax1.text(0.5, 0.5, \"No non-missing values\", ha='center', va='center')\n",
    "        ax1.set_title(f'Original {column_name}')\n",
    "\n",
    "    # Second subplot - mean imputation\n",
    "    ax2 = plt.subplot(1, 3, 2)\n",
    "    # Ensure the data is a pandas Series\n",
    "    mean_data = df_mean[column_name].reset_index(drop=True)\n",
    "    sns.histplot(mean_data, kde=True, ax=ax2, color='green')\n",
    "    ax2.set_title(f'Mean Imputation\\n{column_name}')\n",
    "\n",
    "    # Third subplot - KNN imputation\n",
    "    ax3 = plt.subplot(1, 3, 3)\n",
    "    # Ensure the data is a pandas Series\n",
    "    knn_data = df_knn[column_name].reset_index(drop=True)\n",
    "    sns.histplot(knn_data, kde=True, ax=ax3, color='red')\n",
    "    ax3.set_title(f'KNN Imputation\\n{column_name}')\n",
    "\n",
    "    plt.tight_layout()\n",
    "    plt.show()\n",
    "    \n",
    "    \n",
    "    if len(original_data) > 0:\n",
    "        print(\"\\nOriginal data stats (non-missing):\")\n",
    "        print(f\"Min: {original_data.min():.2f}, Max: {original_data.max():.2f}, Mean: {original_data.mean():.2f}\")\n",
    "    \n",
    "    print(\"\\nMean imputed stats:\")\n",
    "    print(f\"Min: {mean_data.min():.2f}, Max: {mean_data.max():.2f}, Mean: {mean_data.mean():.2f}\")\n",
    "    \n",
    "    print(\"\\nKNN imputed stats:\")\n",
    "    print(f\"Min: {knn_data.min():.2f}, Max: {knn_data.max():.2f}, Mean: {knn_data.mean():.2f}\")\n",
    "\n"
   ]
  },
  {
   "cell_type": "code",
   "execution_count": 10,
   "metadata": {},
   "outputs": [
    {
     "data": {
      "image/png": "[encoded data removed]",
      "text/plain": [
       "<Figure size 1200x600 with 3 Axes>"
      ]
     },
     "metadata": {},
     "output_type": "display_data"
    },
    {
     "name": "stdout",
     "output_type": "stream",
     "text": [
      "\n",
      "Original data stats (non-missing):\n",
      "Min: 21.00, Max: 313.00, Mean: 70.05\n",
      "\n",
      "Mean imputed stats:\n",
      "Min: 21.00, Max: 313.00, Mean: 70.05\n",
      "\n",
      "KNN imputed stats:\n",
      "Min: 21.00, Max: 313.00, Mean: 70.63\n"
     ]
    }
   ],
   "source": [
    "df_mean_imputed = impute_column_mean(df.copy(), 'LotFrontage')\n",
    "df_knn_sklearn_imputed = impute_column_knn_sklearn(df.copy(), 'LotFrontage', k=15)\n",
    "\n",
    "compare_imputation_distributions(df, df_mean_imputed, df_knn_sklearn_imputed, 'LotFrontage')\n",
    "\n"
   ]
  },
  {
   "cell_type": "markdown",
   "metadata": {},
   "source": [
    "Above everything looks right: the distribution after imputation looks similar to original one, certainly better than mean imputation"
   ]
  },
  {
   "cell_type": "code",
   "execution_count": 11,
   "metadata": {},
   "outputs": [
    {
     "name": "stdout",
     "output_type": "stream",
     "text": [
      "Column: MasVnrArea, Null: 8, Dtype: float64\n",
      "Column: Electrical, Null: 1, Dtype: object\n",
      "Number of columns with Nones=2\n"
     ]
    }
   ],
   "source": [
    "df_knn_sklearn_imputed = impute_column_knn_sklearn(df.copy(), 'LotFrontage', k=best_k)\n",
    "info_with_nones(df_knn_sklearn_imputed)"
   ]
  },
  {
   "cell_type": "markdown",
   "metadata": {},
   "source": [
    "Since only 8 values are missing in MasVnrArea"
   ]
  },
  {
   "cell_type": "code",
   "execution_count": 12,
   "metadata": {},
   "outputs": [
    {
     "name": "stdout",
     "output_type": "stream",
     "text": [
      "count    1452.000000\n",
      "mean      103.685262\n",
      "std       181.066207\n",
      "min         0.000000\n",
      "25%         0.000000\n",
      "50%         0.000000\n",
      "75%       166.000000\n",
      "max      1600.000000\n",
      "Name: MasVnrArea, dtype: float64 \n",
      " the median is 0.0\n"
     ]
    }
   ],
   "source": [
    "print(df_knn_sklearn_imputed['MasVnrArea'].describe(), '\\n',\"the median is\", df['MasVnrArea'].median())"
   ]
  },
  {
   "cell_type": "code",
   "execution_count": 13,
   "metadata": {},
   "outputs": [],
   "source": [
    "def impute_column_median(df, column_name):\n",
    "    \"\"\"Imputes a column using the median.\"\"\"\n",
    "    median_value = df[column_name].median()\n",
    "    df[column_name] = df[column_name].fillna(median_value)\n",
    "    return df\n",
    "\n",
    "def impute_column_top(df, column_name):\n",
    "    \"\"\"Imputes a column using the most common.\"\"\"\n",
    "    top_category = df[column_name].value_counts().idxmax()\n",
    "    df[column_name] = df[column_name].fillna(top_category)\n",
    "    return df\n",
    "\n",
    "df_knn_sklearn_imputed = impute_column_median(df_knn_sklearn_imputed.copy(),'MasVnrArea')\n",
    "df_knn_sklearn_imputed = impute_column_top(df_knn_sklearn_imputed.copy(),'Electrical')"
   ]
  },
  {
   "cell_type": "code",
   "execution_count": 14,
   "metadata": {},
   "outputs": [
    {
     "name": "stdout",
     "output_type": "stream",
     "text": [
      "No columns with missing values found.\n",
      "Number of columns with Nones=0\n"
     ]
    }
   ],
   "source": [
    "info_with_nones(df_knn_sklearn_imputed)"
   ]
  },
  {
   "cell_type": "code",
   "execution_count": 15,
   "metadata": {},
   "outputs": [
    {
     "data": {
      "text/plain": [
       "Index(['Id', 'MSSubClass', 'MSZoning', 'LotFrontage', 'LotArea', 'Street',\n",
       "       'Alley', 'LotShape', 'LandContour', 'Utilities', 'LotConfig',\n",
       "       'LandSlope', 'Neighborhood', 'Condition1', 'Condition2', 'BldgType',\n",
       "       'HouseStyle', 'OverallQual', 'OverallCond', 'YearBuilt', 'YearRemodAdd',\n",
       "       'RoofStyle', 'RoofMatl', 'Exterior1st', 'Exterior2nd', 'MasVnrType',\n",
       "       'MasVnrArea', 'ExterQual', 'ExterCond', 'Foundation', 'BsmtQual',\n",
       "       'BsmtCond', 'BsmtExposure', 'BsmtFinType1', 'BsmtFinSF1',\n",
       "       'BsmtFinType2', 'BsmtFinSF2', 'BsmtUnfSF', 'TotalBsmtSF', 'Heating',\n",
       "       'HeatingQC', 'CentralAir', 'Electrical', '1stFlrSF', '2ndFlrSF',\n",
       "       'LowQualFinSF', 'GrLivArea', 'BsmtFullBath', 'BsmtHalfBath', 'FullBath',\n",
       "       'HalfBath', 'BedroomAbvGr', 'KitchenAbvGr', 'KitchenQual',\n",
       "       'TotRmsAbvGrd', 'Functional', 'Fireplaces', 'FireplaceQu', 'GarageType',\n",
       "       'GarageYrBlt', 'GarageFinish', 'GarageCars', 'GarageArea', 'GarageQual',\n",
       "       'GarageCond', 'PavedDrive', 'WoodDeckSF', 'OpenPorchSF',\n",
       "       'EnclosedPorch', '3SsnPorch', 'ScreenPorch', 'PoolArea', 'PoolQC',\n",
       "       'Fence', 'MiscFeature', 'MiscVal', 'MoSold', 'YrSold', 'SaleType',\n",
       "       'SaleCondition', 'SalePrice'],\n",
       "      dtype='object')"
      ]
     },
     "execution_count": 15,
     "metadata": {},
     "output_type": "execute_result"
    }
   ],
   "source": [
    "df_knn_sklearn_imputed.columns"
   ]
  },
  {
   "cell_type": "markdown",
   "metadata": {},
   "source": [
    "Dropping Id which is not a predictor"
   ]
  },
  {
   "cell_type": "code",
   "execution_count": 16,
   "metadata": {},
   "outputs": [],
   "source": [
    "df_cleaned = df_knn_sklearn_imputed.drop(columns=['Id'])"
   ]
  },
  {
   "cell_type": "code",
   "execution_count": 17,
   "metadata": {},
   "outputs": [
    {
     "name": "stdout",
     "output_type": "stream",
     "text": [
      "No columns with missing values found.\n",
      "Number of columns with Nones=0\n"
     ]
    }
   ],
   "source": [
    "info_with_nones(df_cleaned)\n"
   ]
  },
  {
   "cell_type": "code",
   "execution_count": 18,
   "metadata": {},
   "outputs": [],
   "source": [
    "df_cleaned.to_csv('data/train_cleaned.csv', index=False)"
   ]
  }
 ],
 "metadata": {
  "kernelspec": {
   "display_name": "venv",
   "language": "python",
   "name": "python3"
  },
  "language_info": {
   "codemirror_mode": {
    "name": "ipython",
    "version": 3
   },
   "file_extension": ".py",
   "mimetype": "text/x-python",
   "name": "python",
   "nbconvert_exporter": "python",
   "pygments_lexer": "ipython3",
   "version": "3.9.13"
  }
 },
 "nbformat": 4,
 "nbformat_minor": 2
}
