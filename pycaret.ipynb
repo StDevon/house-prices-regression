{
 "cells": [
  {
   "cell_type": "code",
   "execution_count": 1,
   "metadata": {},
   "outputs": [
    {
     "name": "stdout",
     "output_type": "stream",
     "text": [
      "Note: you may need to restart the kernel to use updated packages.\n"
     ]
    },
    {
     "name": "stderr",
     "output_type": "stream",
     "text": [
      "WARNING: Skipping pycaret as it is not installed.\n"
     ]
    }
   ],
   "source": [
    "# install full version\n",
    "%pip uninstall pycaret"
   ]
  },
  {
   "cell_type": "code",
   "execution_count": null,
   "metadata": {},
   "outputs": [
    {
     "ename": "",
     "evalue": "",
     "output_type": "error",
     "traceback": [
      "\u001b[1;31mRunning cells with 'Python 3.9.13' requires the ipykernel package.\n",
      "\u001b[1;31mRun the following command to install 'ipykernel' into the Python environment. \n",
      "\u001b[1;31mCommand: 'c:/Users/micha/.pyenv/pyenv-win/versions/3.9.13/python.exe -m pip install ipykernel -U --force-reinstall'"
     ]
    }
   ],
   "source": [
    "%pip uninstall pycaret -y\n"
   ]
  },
  {
   "cell_type": "code",
   "execution_count": 1,
   "metadata": {},
   "outputs": [
    {
     "name": "stdout",
     "output_type": "stream",
     "text": [
      "pip 22.0.4 from C:\\Work\\Data Science\\House Prices - Adv Regression\\venv\\lib\\site-packages\\pip (python 3.9)c:\\Work\\Data Science\\House Prices - Adv Regression\\venv\\Scripts\\python.exe\n",
      "3.9.13 (tags/v3.9.13:6de2ca5, May 17 2022, 16:36:42) [MSC v.1929 64 bit (AMD64)]\n",
      "\n",
      "\n",
      "3.3.2\n"
     ]
    }
   ],
   "source": [
    "# Check which Python pip is using\n",
    "!pip --version\n",
    "\n",
    "# Check which python kernel the notebook is using.\n",
    "import sys\n",
    "print(sys.executable)\n",
    "print(sys.version)\n",
    "\n",
    "# Upgrade pip and setuptools\n",
    "# %pip install --upgrade pip setuptools\n",
    "\n",
    "# Uninstall and reinstall pycaret\n",
    "# %pip uninstall pycaret -y\n",
    "# %pip install pycaret\n",
    "\n",
    "# Try importing\n",
    "import pycaret\n",
    "print(pycaret.__version__)"
   ]
  },
  {
   "cell_type": "code",
   "execution_count": null,
   "metadata": {},
   "outputs": [
    {
     "ename": "",
     "evalue": "",
     "output_type": "error",
     "traceback": [
      "\u001b[1;31mRunning cells with 'Python 3.12.9' requires the ipykernel package.\n",
      "\u001b[1;31mRun the following command to install 'ipykernel' into the Python environment. \n",
      "\u001b[1;31mCommand: 'c:/Users/micha/AppData/Local/Microsoft/WindowsApps/python3.12.exe -m pip install ipykernel -U --user --force-reinstall'"
     ]
    }
   ],
   "source": [
    "# import pycaret"
   ]
  },
  {
   "cell_type": "code",
   "execution_count": null,
   "metadata": {},
   "outputs": [],
   "source": [
    "# init setup\n",
    "from pycaret.regression import *\n",
    "import pandas as pd\n",
    "\n",
    "\n",
    "df = pd.read_csv('data/train_cleaned.csv')\n",
    "\n",
    "s = setup(df, target = 'SalePrice', session_id = 1, ignore_features = 'Id', normalize = True, transformation = True, transform_target = True)\n",
    "\n",
    "# model training and selection\n",
    "best = compare_models()\n",
    "\n",
    "print(best)\n"
   ]
  },
  {
   "cell_type": "code",
   "execution_count": null,
   "metadata": {},
   "outputs": [],
   "source": [
    "\n",
    "# evaluate trained model\n",
    "evaluate_model(best)\n",
    "\n",
    "# predict on hold-out/test set\n",
    "pred_holdout = predict_model(best)\n",
    "\n",
    "# predict on new data\n",
    "new_data = df.copy().drop('Purchase', axis = 1)\n",
    "predictions = predict_model(best, data = new_data)\n",
    "\n",
    "# save model\n",
    "save_model(best, 'best_pipeline')"
   ]
  }
 ],
 "metadata": {
  "kernelspec": {
   "display_name": "venv",
   "language": "python",
   "name": "python3"
  },
  "language_info": {
   "codemirror_mode": {
    "name": "ipython",
    "version": 3
   },
   "file_extension": ".py",
   "mimetype": "text/x-python",
   "name": "python",
   "nbconvert_exporter": "python",
   "pygments_lexer": "ipython3",
   "version": "3.9.13"
  }
 },
 "nbformat": 4,
 "nbformat_minor": 2
}
