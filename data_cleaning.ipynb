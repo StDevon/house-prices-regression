{
 "cells": [
  {
   "cell_type": "code",
   "execution_count": 1,
   "metadata": {},
   "outputs": [],
   "source": [
    "import pandas as pd\n",
    "import matplotlib.pyplot as plt\n",
    "import seaborn as sns\n",
    "from sklearn.model_selection import train_test_split\n",
    "from sklearn.impute import KNNImputer\n",
    "from scipy import stats\n",
    "import pandas as pd\n",
    "import numpy as np\n",
    "from scipy import stats\n"
   ]
  },
  {
   "cell_type": "code",
   "execution_count": 2,
   "metadata": {},
   "outputs": [],
   "source": [
    "df = pd.read_csv(\"data/train.csv\")\n",
    "# df.info()\n",
    "# df.head()"
   ]
  },
  {
   "cell_type": "code",
   "execution_count": 3,
   "metadata": {},
   "outputs": [],
   "source": [
    "df = df.drop_duplicates()"
   ]
  },
  {
   "cell_type": "code",
   "execution_count": 4,
   "metadata": {},
   "outputs": [
    {
     "name": "stdout",
     "output_type": "stream",
     "text": [
      "Column: LotFrontage\n",
      "Non-Null Count: 1201\n",
      "Null Count: 259\n",
      "Dtype: float64\n",
      "--------------------\n",
      "Column: Alley\n",
      "Non-Null Count: 91\n",
      "Null Count: 1369\n",
      "Dtype: object\n",
      "--------------------\n",
      "Column: MasVnrType\n",
      "Non-Null Count: 1452\n",
      "Null Count: 8\n",
      "Dtype: object\n",
      "--------------------\n",
      "Column: MasVnrArea\n",
      "Non-Null Count: 1452\n",
      "Null Count: 8\n",
      "Dtype: float64\n",
      "--------------------\n",
      "Column: BsmtQual\n",
      "Non-Null Count: 1423\n",
      "Null Count: 37\n",
      "Dtype: object\n",
      "--------------------\n",
      "Column: BsmtCond\n",
      "Non-Null Count: 1423\n",
      "Null Count: 37\n",
      "Dtype: object\n",
      "--------------------\n",
      "Column: BsmtExposure\n",
      "Non-Null Count: 1422\n",
      "Null Count: 38\n",
      "Dtype: object\n",
      "--------------------\n",
      "Column: BsmtFinType1\n",
      "Non-Null Count: 1423\n",
      "Null Count: 37\n",
      "Dtype: object\n",
      "--------------------\n",
      "Column: BsmtFinType2\n",
      "Non-Null Count: 1422\n",
      "Null Count: 38\n",
      "Dtype: object\n",
      "--------------------\n",
      "Column: Electrical\n",
      "Non-Null Count: 1459\n",
      "Null Count: 1\n",
      "Dtype: object\n",
      "--------------------\n",
      "Column: FireplaceQu\n",
      "Non-Null Count: 770\n",
      "Null Count: 690\n",
      "Dtype: object\n",
      "--------------------\n",
      "Column: GarageType\n",
      "Non-Null Count: 1379\n",
      "Null Count: 81\n",
      "Dtype: object\n",
      "--------------------\n",
      "Column: GarageYrBlt\n",
      "Non-Null Count: 1379\n",
      "Null Count: 81\n",
      "Dtype: float64\n",
      "--------------------\n",
      "Column: GarageFinish\n",
      "Non-Null Count: 1379\n",
      "Null Count: 81\n",
      "Dtype: object\n",
      "--------------------\n",
      "Column: GarageQual\n",
      "Non-Null Count: 1379\n",
      "Null Count: 81\n",
      "Dtype: object\n",
      "--------------------\n",
      "Column: GarageCond\n",
      "Non-Null Count: 1379\n",
      "Null Count: 81\n",
      "Dtype: object\n",
      "--------------------\n",
      "Column: PoolQC\n",
      "Non-Null Count: 7\n",
      "Null Count: 1453\n",
      "Dtype: object\n",
      "--------------------\n",
      "Column: Fence\n",
      "Non-Null Count: 281\n",
      "Null Count: 1179\n",
      "Dtype: object\n",
      "--------------------\n",
      "Column: MiscFeature\n",
      "Non-Null Count: 54\n",
      "Null Count: 1406\n",
      "Dtype: object\n",
      "--------------------\n",
      "Number of columns with Nones=19\n"
     ]
    }
   ],
   "source": [
    "def info_with_nones(df):\n",
    "    \"\"\"Displays info only for columns with missing values.\"\"\"\n",
    "    null_counts = df.isnull().sum()\n",
    "    cols_with_nones = null_counts[null_counts > 0].index\n",
    "    couter = 0\n",
    "    if not cols_with_nones.empty:\n",
    "        for col in cols_with_nones:\n",
    "            couter = couter+1\n",
    "            print(f\"Column: {col}\")\n",
    "            print(f\"Non-Null Count: {df[col].count()}\")\n",
    "            print(f\"Null Count: {df[col].isnull().sum()}\")\n",
    "            print(f\"Dtype: {df[col].dtype}\")\n",
    "            print(\"-\" * 20)\n",
    "    else:\n",
    "        print(\"No columns with missing values found.\")\n",
    "    print(f'Number of columns with Nones={couter}')\n",
    "info_with_nones(df)"
   ]
  },
  {
   "cell_type": "code",
   "execution_count": 5,
   "metadata": {},
   "outputs": [],
   "source": [
    "df['Alley']=df['Alley'].fillna(\"NoAlley\")\n",
    "\n",
    "df['PoolQC']=df['PoolQC'].fillna(\"NoPool\")\n",
    "\n",
    "df['MiscFeature']=df['MiscFeature'].fillna(\"NoFeature\")\n",
    "\n",
    "df['Fence']=df['Fence'].fillna(\"NoFence\")\n",
    "\n",
    "df['MasVnrType']=df['MasVnrType'].fillna(\"NoMasonry\")\n",
    "\n",
    "df['FireplaceQu']=df['FireplaceQu'].fillna(\"NoFirePlace\")\n",
    "\n",
    "df['BsmtQual']=df['BsmtQual'].fillna(\"NoBasement\")\n",
    "df['BsmtCond']=df['BsmtCond'].fillna(\"NoBasement\")\n",
    "df['BsmtExposure']=df['BsmtExposure'].fillna(\"NoBasement\")\n",
    "df['BsmtFinType1']=df['BsmtFinType1'].fillna(\"NoBasement\")\n",
    "df['BsmtFinType2']=df['BsmtFinType2'].fillna(\"NoBasement\")\n",
    "\n",
    "df['GarageType']=df['GarageType'].fillna(\"NoGarage\")\n",
    "df['GarageYrBlt']=df['GarageYrBlt'].fillna(\"NoGarage\")\n",
    "df['GarageFinish']=df['GarageFinish'].fillna(\"NoGarage\")\n",
    "df['GarageQual']=df['GarageQual'].fillna(\"NoGarage\")\n",
    "df['GarageCond']=df['GarageCond'].fillna(\"NoGarage\")"
   ]
  },
  {
   "cell_type": "code",
   "execution_count": 6,
   "metadata": {},
   "outputs": [
    {
     "name": "stdout",
     "output_type": "stream",
     "text": [
      "Column: LotFrontage\n",
      "Non-Null Count: 1201\n",
      "Null Count: 259\n",
      "Dtype: float64\n",
      "--------------------\n",
      "Column: MasVnrArea\n",
      "Non-Null Count: 1452\n",
      "Null Count: 8\n",
      "Dtype: float64\n",
      "--------------------\n",
      "Column: Electrical\n",
      "Non-Null Count: 1459\n",
      "Null Count: 1\n",
      "Dtype: object\n",
      "--------------------\n",
      "Number of columns with Nones=3\n"
     ]
    }
   ],
   "source": [
    "info_with_nones(df)\n"
   ]
  },
  {
   "cell_type": "markdown",
   "metadata": {},
   "source": [
    "deal with real Nones:\n",
    "LotFrontage\n",
    "MasVnrArea"
   ]
  },
  {
   "cell_type": "code",
   "execution_count": 7,
   "metadata": {},
   "outputs": [
    {
     "data": {
      "text/plain": [
       "count    1201.000000\n",
       "mean       70.049958\n",
       "std        24.284752\n",
       "min        21.000000\n",
       "25%        59.000000\n",
       "50%        69.000000\n",
       "75%        80.000000\n",
       "max       313.000000\n",
       "Name: LotFrontage, dtype: float64"
      ]
     },
     "execution_count": 7,
     "metadata": {},
     "output_type": "execute_result"
    }
   ],
   "source": [
    "df['LotFrontage'].describe()"
   ]
  },
  {
   "cell_type": "code",
   "execution_count": 8,
   "metadata": {},
   "outputs": [],
   "source": [
    "\n",
    "def impute_column_knn_sklearn(df, column_name, k=5):\n",
    "    \"\"\"Imputes a column using sklearn's KNNImputer.\"\"\"\n",
    "    df_numeric = df.select_dtypes(include=np.number)\n",
    "    imputer = KNNImputer(n_neighbors=k)\n",
    "    df_imputed = imputer.fit_transform(df_numeric)\n",
    "    df_imputed = pd.DataFrame(df_imputed, columns=df_numeric.columns, index=df.index)\n",
    "    df[column_name] = df_imputed[column_name]\n",
    "    return df\n",
    "\n",
    "def calculate_ks_statistic(df_original, df_imputed, column_name):\n",
    "    \"\"\"Calculates the KS statistic between original and imputed distributions.\"\"\"\n",
    "    original_data = df_original[column_name].dropna()\n",
    "    imputed_data = df_imputed[column_name]\n",
    "    ks_statistic, p_value = stats.ks_2samp(original_data, imputed_data)\n",
    "    return ks_statistic, p_value\n",
    "\n"
   ]
  },
  {
   "cell_type": "code",
   "execution_count": 9,
   "metadata": {},
   "outputs": [
    {
     "name": "stdout",
     "output_type": "stream",
     "text": [
      "k = 1:\n",
      "  KS Statistic: 0.010225786466579474\n",
      "  KS P-Value: 0.9999995704783942\n",
      "k = 2:\n",
      "  KS Statistic: 0.023534338358458962\n",
      "  KS P-Value: 0.8486757217938714\n",
      "k = 3:\n",
      "  KS Statistic: 0.033808310961198684\n",
      "  KS P-Value: 0.42831773746357865\n"
     ]
    }
   ],
   "source": [
    "\n",
    "\n",
    "def compare_imputation_with_k(df, column_name, k_values):\n",
    "    \"\"\"Compares KNN imputation for different k values using KS statistic and Wasserstein Distance.\"\"\"\n",
    "    results = {}\n",
    "    for k in k_values:\n",
    "        df_imputed_knn = impute_column_knn_sklearn(df.copy(), column_name, k=k)\n",
    "\n",
    "        ks_stat, ks_pval = calculate_ks_statistic(df.dropna(), df_imputed_knn, column_name)\n",
    "        results[k] = {'KS Statistic': ks_stat, 'KS P-Value': ks_pval}\n",
    "\n",
    "    return results\n",
    "\n",
    "k_values = [1, 2, 3]  \n",
    "comparison_results = compare_imputation_with_k(df, 'LotFrontage', k_values)\n",
    "\n",
    "for k, metrics in comparison_results.items():\n",
    "    print(f\"k = {k}:\")\n",
    "    for metric, value in metrics.items():\n",
    "        print(f\"  {metric}: {value}\")"
   ]
  },
  {
   "cell_type": "markdown",
   "metadata": {},
   "source": [
    "Above is not satisfactory, since for k=1 we certainly overfit when imputing the data (no wonder p-value=1). To find the optimal imputation scheme we will use cross-validation."
   ]
  },
  {
   "cell_type": "code",
   "execution_count": 10,
   "metadata": {},
   "outputs": [
    {
     "name": "stdout",
     "output_type": "stream",
     "text": [
      "k = 2: KS Statistic (Test Set) = 0.0204\n",
      "k = 3: KS Statistic (Test Set) = 0.0170\n",
      "k = 5: KS Statistic (Test Set) = 0.0177\n",
      "k = 7: KS Statistic (Test Set) = 0.0308\n",
      "k = 9: KS Statistic (Test Set) = 0.0348\n",
      "The best k value on the test set is: 3\n"
     ]
    }
   ],
   "source": [
    "def evaluate_imputer_generalization(df, column_name, k_values, test_size=0.2, random_state=42):\n",
    "    \"\"\"Evaluates KNN imputer generalization using train-test split.\"\"\"\n",
    "    results = {}\n",
    "    train_df, test_df = train_test_split(df, test_size=test_size, random_state=random_state)\n",
    "    train_numeric = train_df.select_dtypes(include=np.number)\n",
    "    test_numeric = test_df.select_dtypes(include=np.number)\n",
    "\n",
    "    original_test_data = test_df[column_name].dropna()\n",
    "\n",
    "    for k in k_values:\n",
    "        imputer = KNNImputer(n_neighbors=k)\n",
    "        imputer.fit(train_numeric)  \n",
    "        test_imputed = imputer.transform(test_numeric) \n",
    "        test_imputed_df = pd.DataFrame(test_imputed, columns=test_numeric.columns, index=test_df.index)\n",
    "        imputed_test_data = test_imputed_df[column_name]\n",
    "\n",
    "        ks_stat, _ = stats.ks_2samp(original_test_data, imputed_test_data)\n",
    "        results[k] = ks_stat\n",
    "\n",
    "    return results\n",
    "\n",
    "\n",
    "k_values = [2, 3, 5, 7, 9]\n",
    "results = evaluate_imputer_generalization(df, 'LotFrontage', k_values)\n",
    "\n",
    "for k, ks_stat in results.items():\n",
    "    print(f\"k = {k}: KS Statistic (Test Set) = {ks_stat:.4f}\")\n",
    "\n",
    "best_k = min(results, key=results.get)\n",
    "print(f\"The best k value on the test set is: {best_k}\")"
   ]
  },
  {
   "cell_type": "code",
   "execution_count": 11,
   "metadata": {},
   "outputs": [],
   "source": [
    "def impute_column_mean(df, column_name):\n",
    "    \"\"\"Imputes a column using the mean.\"\"\"\n",
    "    mean_value = df[column_name].mean()\n",
    "    df[column_name] = df[column_name].fillna(mean_value)\n",
    "    return df\n",
    "\n",
    "\n",
    "def compare_imputation_distributions(df_original, df_mean, df_knn, column_name):\n",
    "    \"\"\"Compares the distributions of a column after different imputations with seaborn.\"\"\"\n",
    "    import matplotlib.pyplot as plt\n",
    "    import seaborn as sns\n",
    "    import numpy as np\n",
    "    import pandas as pd\n",
    "    \n",
    "    plt.figure(figsize=(12, 6))\n",
    "    \n",
    "    # First subplot - original data\n",
    "    ax1 = plt.subplot(1, 3, 1)\n",
    "    # Get the original non-missing data as a Series\n",
    "    original_data = df_original[column_name].dropna()\n",
    "    \n",
    "    if len(original_data) > 0:\n",
    "        # Explicitly convert to a pandas Series with a known valid color\n",
    "        sns.histplot(original_data.reset_index(drop=True), kde=True, ax=ax1, color='blue')\n",
    "        ax1.set_title(f'Original {column_name}\\n(non-missing values)')\n",
    "    else:\n",
    "        ax1.text(0.5, 0.5, \"No non-missing values\", ha='center', va='center')\n",
    "        ax1.set_title(f'Original {column_name}')\n",
    "\n",
    "    # Second subplot - mean imputation\n",
    "    ax2 = plt.subplot(1, 3, 2)\n",
    "    # Ensure the data is a pandas Series\n",
    "    mean_data = df_mean[column_name].reset_index(drop=True)\n",
    "    sns.histplot(mean_data, kde=True, ax=ax2, color='green')\n",
    "    ax2.set_title(f'Mean Imputation\\n{column_name}')\n",
    "\n",
    "    # Third subplot - KNN imputation\n",
    "    ax3 = plt.subplot(1, 3, 3)\n",
    "    # Ensure the data is a pandas Series\n",
    "    knn_data = df_knn[column_name].reset_index(drop=True)\n",
    "    sns.histplot(knn_data, kde=True, ax=ax3, color='red')\n",
    "    ax3.set_title(f'KNN Imputation\\n{column_name}')\n",
    "\n",
    "    plt.tight_layout()\n",
    "    plt.show()\n",
    "    \n",
    "    \n",
    "    if len(original_data) > 0:\n",
    "        print(\"\\nOriginal data stats (non-missing):\")\n",
    "        print(f\"Min: {original_data.min():.2f}, Max: {original_data.max():.2f}, Mean: {original_data.mean():.2f}\")\n",
    "    \n",
    "    print(\"\\nMean imputed stats:\")\n",
    "    print(f\"Min: {mean_data.min():.2f}, Max: {mean_data.max():.2f}, Mean: {mean_data.mean():.2f}\")\n",
    "    \n",
    "    print(\"\\nKNN imputed stats:\")\n",
    "    print(f\"Min: {knn_data.min():.2f}, Max: {knn_data.max():.2f}, Mean: {knn_data.mean():.2f}\")\n",
    "\n"
   ]
  },
  {
   "cell_type": "code",
   "execution_count": 12,
   "metadata": {},
   "outputs": [
    {
     "data": {
      "image/png": "[encoded data removed]",
      "text/plain": [
       "<Figure size 1200x600 with 3 Axes>"
      ]
     },
     "metadata": {},
     "output_type": "display_data"
    },
    {
     "name": "stdout",
     "output_type": "stream",
     "text": [
      "\n",
      "Original data stats (non-missing):\n",
      "Min: 21.00, Max: 313.00, Mean: 70.05\n",
      "\n",
      "Mean imputed stats:\n",
      "Min: 21.00, Max: 313.00, Mean: 70.05\n",
      "\n",
      "KNN imputed stats:\n",
      "Min: 21.00, Max: 313.00, Mean: 70.82\n"
     ]
    }
   ],
   "source": [
    "df_mean_imputed = impute_column_mean(df.copy(), 'LotFrontage')\n",
    "df_knn_sklearn_imputed = impute_column_knn_sklearn(df.copy(), 'LotFrontage', k=3)\n",
    "\n",
    "compare_imputation_distributions(df, df_mean_imputed, df_knn_sklearn_imputed, 'LotFrontage')"
   ]
  },
  {
   "cell_type": "markdown",
   "metadata": {},
   "source": [
    "Above everything looks right: the distribution after imputation looks similar to original one, certainly better than mean imputation"
   ]
  },
  {
   "cell_type": "code",
   "execution_count": 13,
   "metadata": {},
   "outputs": [
    {
     "name": "stdout",
     "output_type": "stream",
     "text": [
      "Column: MasVnrArea\n",
      "Non-Null Count: 1452\n",
      "Null Count: 8\n",
      "Dtype: float64\n",
      "--------------------\n",
      "Column: Electrical\n",
      "Non-Null Count: 1459\n",
      "Null Count: 1\n",
      "Dtype: object\n",
      "--------------------\n",
      "Number of columns with Nones=2\n"
     ]
    }
   ],
   "source": [
    "df = impute_column_knn_sklearn(df.copy(), 'LotFrontage', k=3)\n",
    "info_with_nones(df)"
   ]
  },
  {
   "cell_type": "markdown",
   "metadata": {},
   "source": [
    "Since only 8 are missing Ma"
   ]
  },
  {
   "cell_type": "code",
   "execution_count": 14,
   "metadata": {},
   "outputs": [
    {
     "name": "stdout",
     "output_type": "stream",
     "text": [
      "count    1452.000000\n",
      "mean      103.685262\n",
      "std       181.066207\n",
      "min         0.000000\n",
      "25%         0.000000\n",
      "50%         0.000000\n",
      "75%       166.000000\n",
      "max      1600.000000\n",
      "Name: MasVnrArea, dtype: float64 \n",
      " the median is 0.0\n"
     ]
    }
   ],
   "source": [
    "print(df['MasVnrArea'].describe(), '\\n',\"the median is\", df['MasVnrArea'].median())"
   ]
  },
  {
   "cell_type": "code",
   "execution_count": 15,
   "metadata": {},
   "outputs": [],
   "source": [
    "def impute_column_median(df, column_name):\n",
    "    \"\"\"Imputes a column using the median.\"\"\"\n",
    "    median_value = df[column_name].median()\n",
    "    df[column_name] = df[column_name].fillna(median_value)\n",
    "    return df\n",
    "\n",
    "def impute_column_top(df, column_name):\n",
    "    \"\"\"Imputes a column using the most common.\"\"\"\n",
    "    top_category = df[column_name].value_counts().idxmax()\n",
    "    df[column_name] = df[column_name].fillna(top_category)\n",
    "    return df\n",
    "\n",
    "df = impute_column_median(df.copy(),'MasVnrArea')\n",
    "df = impute_column_top(df.copy(),'Electrical')"
   ]
  },
  {
   "cell_type": "code",
   "execution_count": 16,
   "metadata": {},
   "outputs": [
    {
     "name": "stdout",
     "output_type": "stream",
     "text": [
      "No columns with missing values found.\n",
      "Number of columns with Nones=0\n"
     ]
    }
   ],
   "source": [
    "info_with_nones(df)"
   ]
  },
  {
   "cell_type": "code",
   "execution_count": 17,
   "metadata": {},
   "outputs": [
    {
     "data": {
      "text/plain": [
       "Index(['Id', 'MSSubClass', 'MSZoning', 'LotFrontage', 'LotArea', 'Street',\n",
       "       'Alley', 'LotShape', 'LandContour', 'Utilities', 'LotConfig',\n",
       "       'LandSlope', 'Neighborhood', 'Condition1', 'Condition2', 'BldgType',\n",
       "       'HouseStyle', 'OverallQual', 'OverallCond', 'YearBuilt', 'YearRemodAdd',\n",
       "       'RoofStyle', 'RoofMatl', 'Exterior1st', 'Exterior2nd', 'MasVnrType',\n",
       "       'MasVnrArea', 'ExterQual', 'ExterCond', 'Foundation', 'BsmtQual',\n",
       "       'BsmtCond', 'BsmtExposure', 'BsmtFinType1', 'BsmtFinSF1',\n",
       "       'BsmtFinType2', 'BsmtFinSF2', 'BsmtUnfSF', 'TotalBsmtSF', 'Heating',\n",
       "       'HeatingQC', 'CentralAir', 'Electrical', '1stFlrSF', '2ndFlrSF',\n",
       "       'LowQualFinSF', 'GrLivArea', 'BsmtFullBath', 'BsmtHalfBath', 'FullBath',\n",
       "       'HalfBath', 'BedroomAbvGr', 'KitchenAbvGr', 'KitchenQual',\n",
       "       'TotRmsAbvGrd', 'Functional', 'Fireplaces', 'FireplaceQu', 'GarageType',\n",
       "       'GarageYrBlt', 'GarageFinish', 'GarageCars', 'GarageArea', 'GarageQual',\n",
       "       'GarageCond', 'PavedDrive', 'WoodDeckSF', 'OpenPorchSF',\n",
       "       'EnclosedPorch', '3SsnPorch', 'ScreenPorch', 'PoolArea', 'PoolQC',\n",
       "       'Fence', 'MiscFeature', 'MiscVal', 'MoSold', 'YrSold', 'SaleType',\n",
       "       'SaleCondition', 'SalePrice'],\n",
       "      dtype='object')"
      ]
     },
     "execution_count": 17,
     "metadata": {},
     "output_type": "execute_result"
    }
   ],
   "source": [
    "df.columns"
   ]
  },
  {
   "cell_type": "code",
   "execution_count": 18,
   "metadata": {},
   "outputs": [],
   "source": [
    "df.to_csv('data/train_cleaned.csv', index=False)"
   ]
  },
  {
   "cell_type": "code",
   "execution_count": null,
   "metadata": {},
   "outputs": [],
   "source": []
  }
 ],
 "metadata": {
  "kernelspec": {
   "display_name": "base",
   "language": "python",
   "name": "python3"
  },
  "language_info": {
   "codemirror_mode": {
    "name": "ipython",
    "version": 3
   },
   "file_extension": ".py",
   "mimetype": "text/x-python",
   "name": "python",
   "nbconvert_exporter": "python",
   "pygments_lexer": "ipython3",
   "version": "3.10.9"
  }
 },
 "nbformat": 4,
 "nbformat_minor": 2
}
